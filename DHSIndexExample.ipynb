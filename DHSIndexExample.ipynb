{
 "cells": [
  {
   "cell_type": "code",
   "execution_count": 1,
   "id": "bdb6d67a",
   "metadata": {},
   "outputs": [],
   "source": [
    "import numpy as np\n",
    "import os"
   ]
  },
  {
   "cell_type": "code",
   "execution_count": 2,
   "id": "1dac947d",
   "metadata": {},
   "outputs": [],
   "source": [
    "data_dir = \"./data\""
   ]
  },
  {
   "cell_type": "code",
   "execution_count": 3,
   "id": "00c96602",
   "metadata": {},
   "outputs": [],
   "source": [
    "signal_local_fn = os.path.join(data_dir, \"WM20201125_multiDHS_domains.hg38.17.S1.bed\")"
   ]
  },
  {
   "cell_type": "code",
   "execution_count": 4,
   "id": "6391b09a",
   "metadata": {},
   "outputs": [],
   "source": [
    "import pandas as pd"
   ]
  },
  {
   "cell_type": "code",
   "execution_count": 5,
   "id": "75635669",
   "metadata": {},
   "outputs": [],
   "source": [
    "# read gzip'd file into pandas dataframe\n",
    "signal_df = pd.read_csv(signal_local_fn, sep='\\t', header=None)"
   ]
  },
  {
   "cell_type": "code",
   "execution_count": 6,
   "id": "abb09428",
   "metadata": {},
   "outputs": [
    {
     "data": {
      "text/html": [
       "<div>\n",
       "<style scoped>\n",
       "    .dataframe tbody tr th:only-of-type {\n",
       "        vertical-align: middle;\n",
       "    }\n",
       "\n",
       "    .dataframe tbody tr th {\n",
       "        vertical-align: top;\n",
       "    }\n",
       "\n",
       "    .dataframe thead th {\n",
       "        text-align: right;\n",
       "    }\n",
       "</style>\n",
       "<table border=\"1\" class=\"dataframe\">\n",
       "  <thead>\n",
       "    <tr style=\"text-align: right;\">\n",
       "      <th></th>\n",
       "      <th>0</th>\n",
       "      <th>1</th>\n",
       "      <th>2</th>\n",
       "      <th>3</th>\n",
       "      <th>4</th>\n",
       "      <th>5</th>\n",
       "      <th>6</th>\n",
       "      <th>7</th>\n",
       "      <th>8</th>\n",
       "      <th>9</th>\n",
       "      <th>10</th>\n",
       "      <th>11</th>\n",
       "      <th>12</th>\n",
       "      <th>13</th>\n",
       "      <th>14</th>\n",
       "      <th>15</th>\n",
       "      <th>16</th>\n",
       "      <th>17</th>\n",
       "      <th>18</th>\n",
       "      <th>19</th>\n",
       "    </tr>\n",
       "  </thead>\n",
       "  <tbody>\n",
       "    <tr>\n",
       "      <th>0</th>\n",
       "      <td>chr1</td>\n",
       "      <td>0</td>\n",
       "      <td>200</td>\n",
       "      <td>0.0</td>\n",
       "      <td>0.0</td>\n",
       "      <td>0.0</td>\n",
       "      <td>0.0</td>\n",
       "      <td>0.0</td>\n",
       "      <td>0.0</td>\n",
       "      <td>0.0</td>\n",
       "      <td>0.0</td>\n",
       "      <td>0.0</td>\n",
       "      <td>0.0</td>\n",
       "      <td>0.0</td>\n",
       "      <td>0.0</td>\n",
       "      <td>0.0</td>\n",
       "      <td>0.0</td>\n",
       "      <td>0.0</td>\n",
       "      <td>0.0</td>\n",
       "      <td>0.47587</td>\n",
       "    </tr>\n",
       "    <tr>\n",
       "      <th>1</th>\n",
       "      <td>chr1</td>\n",
       "      <td>200</td>\n",
       "      <td>400</td>\n",
       "      <td>0.0</td>\n",
       "      <td>0.0</td>\n",
       "      <td>0.0</td>\n",
       "      <td>0.0</td>\n",
       "      <td>0.0</td>\n",
       "      <td>0.0</td>\n",
       "      <td>0.0</td>\n",
       "      <td>0.0</td>\n",
       "      <td>0.0</td>\n",
       "      <td>0.0</td>\n",
       "      <td>0.0</td>\n",
       "      <td>0.0</td>\n",
       "      <td>0.0</td>\n",
       "      <td>0.0</td>\n",
       "      <td>0.0</td>\n",
       "      <td>0.0</td>\n",
       "      <td>0.47587</td>\n",
       "    </tr>\n",
       "    <tr>\n",
       "      <th>2</th>\n",
       "      <td>chr1</td>\n",
       "      <td>400</td>\n",
       "      <td>600</td>\n",
       "      <td>0.0</td>\n",
       "      <td>0.0</td>\n",
       "      <td>0.0</td>\n",
       "      <td>0.0</td>\n",
       "      <td>0.0</td>\n",
       "      <td>0.0</td>\n",
       "      <td>0.0</td>\n",
       "      <td>0.0</td>\n",
       "      <td>0.0</td>\n",
       "      <td>0.0</td>\n",
       "      <td>0.0</td>\n",
       "      <td>0.0</td>\n",
       "      <td>0.0</td>\n",
       "      <td>0.0</td>\n",
       "      <td>0.0</td>\n",
       "      <td>0.0</td>\n",
       "      <td>0.47587</td>\n",
       "    </tr>\n",
       "    <tr>\n",
       "      <th>3</th>\n",
       "      <td>chr1</td>\n",
       "      <td>600</td>\n",
       "      <td>800</td>\n",
       "      <td>0.0</td>\n",
       "      <td>0.0</td>\n",
       "      <td>0.0</td>\n",
       "      <td>0.0</td>\n",
       "      <td>0.0</td>\n",
       "      <td>0.0</td>\n",
       "      <td>0.0</td>\n",
       "      <td>0.0</td>\n",
       "      <td>0.0</td>\n",
       "      <td>0.0</td>\n",
       "      <td>0.0</td>\n",
       "      <td>0.0</td>\n",
       "      <td>0.0</td>\n",
       "      <td>0.0</td>\n",
       "      <td>0.0</td>\n",
       "      <td>0.0</td>\n",
       "      <td>0.47587</td>\n",
       "    </tr>\n",
       "    <tr>\n",
       "      <th>4</th>\n",
       "      <td>chr1</td>\n",
       "      <td>800</td>\n",
       "      <td>1000</td>\n",
       "      <td>0.0</td>\n",
       "      <td>0.0</td>\n",
       "      <td>0.0</td>\n",
       "      <td>0.0</td>\n",
       "      <td>0.0</td>\n",
       "      <td>0.0</td>\n",
       "      <td>0.0</td>\n",
       "      <td>0.0</td>\n",
       "      <td>0.0</td>\n",
       "      <td>0.0</td>\n",
       "      <td>0.0</td>\n",
       "      <td>0.0</td>\n",
       "      <td>0.0</td>\n",
       "      <td>0.0</td>\n",
       "      <td>0.0</td>\n",
       "      <td>0.0</td>\n",
       "      <td>0.47587</td>\n",
       "    </tr>\n",
       "  </tbody>\n",
       "</table>\n",
       "</div>"
      ],
      "text/plain": [
       "     0    1     2    3    4    5    6    7    8    9    10   11   12   13  \\\n",
       "0  chr1    0   200  0.0  0.0  0.0  0.0  0.0  0.0  0.0  0.0  0.0  0.0  0.0   \n",
       "1  chr1  200   400  0.0  0.0  0.0  0.0  0.0  0.0  0.0  0.0  0.0  0.0  0.0   \n",
       "2  chr1  400   600  0.0  0.0  0.0  0.0  0.0  0.0  0.0  0.0  0.0  0.0  0.0   \n",
       "3  chr1  600   800  0.0  0.0  0.0  0.0  0.0  0.0  0.0  0.0  0.0  0.0  0.0   \n",
       "4  chr1  800  1000  0.0  0.0  0.0  0.0  0.0  0.0  0.0  0.0  0.0  0.0  0.0   \n",
       "\n",
       "    14   15   16   17   18       19  \n",
       "0  0.0  0.0  0.0  0.0  0.0  0.47587  \n",
       "1  0.0  0.0  0.0  0.0  0.0  0.47587  \n",
       "2  0.0  0.0  0.0  0.0  0.0  0.47587  \n",
       "3  0.0  0.0  0.0  0.0  0.0  0.47587  \n",
       "4  0.0  0.0  0.0  0.0  0.0  0.47587  "
      ]
     },
     "execution_count": 6,
     "metadata": {},
     "output_type": "execute_result"
    }
   ],
   "source": [
    "signal_df.head(5)"
   ]
  },
  {
   "cell_type": "code",
   "execution_count": 7,
   "id": "59185a92",
   "metadata": {},
   "outputs": [],
   "source": [
    "# columns 3-19 are 16 DHS factors and a NaN category"
   ]
  },
  {
   "cell_type": "code",
   "execution_count": 8,
   "id": "7540a5fa",
   "metadata": {},
   "outputs": [],
   "source": [
    "data = signal_df.rename(columns={0:\"chromosome\", 1: \"start\", 2: \"end\"})"
   ]
  },
  {
   "cell_type": "code",
   "execution_count": 20,
   "id": "7dc408a9",
   "metadata": {},
   "outputs": [],
   "source": [
    "factors = [a for a in range(3,20)]"
   ]
  },
  {
   "cell_type": "code",
   "execution_count": 23,
   "id": "94ae6c42",
   "metadata": {},
   "outputs": [
    {
     "data": {
      "text/plain": [
       "[3, 4, 5, 6, 7, 8, 9, 10, 11, 12, 13, 14, 15, 16, 17, 18, 19]"
      ]
     },
     "execution_count": 23,
     "metadata": {},
     "output_type": "execute_result"
    }
   ],
   "source": [
    "factors"
   ]
  },
  {
   "cell_type": "code",
   "execution_count": 9,
   "id": "cc148abe",
   "metadata": {},
   "outputs": [
    {
     "data": {
      "text/html": [
       "<div>\n",
       "<style scoped>\n",
       "    .dataframe tbody tr th:only-of-type {\n",
       "        vertical-align: middle;\n",
       "    }\n",
       "\n",
       "    .dataframe tbody tr th {\n",
       "        vertical-align: top;\n",
       "    }\n",
       "\n",
       "    .dataframe thead th {\n",
       "        text-align: right;\n",
       "    }\n",
       "</style>\n",
       "<table border=\"1\" class=\"dataframe\">\n",
       "  <thead>\n",
       "    <tr style=\"text-align: right;\">\n",
       "      <th></th>\n",
       "      <th>chromosome</th>\n",
       "      <th>start</th>\n",
       "      <th>end</th>\n",
       "      <th>3</th>\n",
       "      <th>4</th>\n",
       "      <th>5</th>\n",
       "      <th>6</th>\n",
       "      <th>7</th>\n",
       "      <th>8</th>\n",
       "      <th>9</th>\n",
       "      <th>10</th>\n",
       "      <th>11</th>\n",
       "      <th>12</th>\n",
       "      <th>13</th>\n",
       "      <th>14</th>\n",
       "      <th>15</th>\n",
       "      <th>16</th>\n",
       "      <th>17</th>\n",
       "      <th>18</th>\n",
       "      <th>19</th>\n",
       "    </tr>\n",
       "  </thead>\n",
       "  <tbody>\n",
       "    <tr>\n",
       "      <th>0</th>\n",
       "      <td>chr1</td>\n",
       "      <td>0</td>\n",
       "      <td>200</td>\n",
       "      <td>0.0</td>\n",
       "      <td>0.0</td>\n",
       "      <td>0.0</td>\n",
       "      <td>0.0</td>\n",
       "      <td>0.0</td>\n",
       "      <td>0.0</td>\n",
       "      <td>0.0</td>\n",
       "      <td>0.0</td>\n",
       "      <td>0.0</td>\n",
       "      <td>0.0</td>\n",
       "      <td>0.0</td>\n",
       "      <td>0.0</td>\n",
       "      <td>0.0</td>\n",
       "      <td>0.0</td>\n",
       "      <td>0.0</td>\n",
       "      <td>0.0</td>\n",
       "      <td>0.47587</td>\n",
       "    </tr>\n",
       "    <tr>\n",
       "      <th>1</th>\n",
       "      <td>chr1</td>\n",
       "      <td>200</td>\n",
       "      <td>400</td>\n",
       "      <td>0.0</td>\n",
       "      <td>0.0</td>\n",
       "      <td>0.0</td>\n",
       "      <td>0.0</td>\n",
       "      <td>0.0</td>\n",
       "      <td>0.0</td>\n",
       "      <td>0.0</td>\n",
       "      <td>0.0</td>\n",
       "      <td>0.0</td>\n",
       "      <td>0.0</td>\n",
       "      <td>0.0</td>\n",
       "      <td>0.0</td>\n",
       "      <td>0.0</td>\n",
       "      <td>0.0</td>\n",
       "      <td>0.0</td>\n",
       "      <td>0.0</td>\n",
       "      <td>0.47587</td>\n",
       "    </tr>\n",
       "    <tr>\n",
       "      <th>2</th>\n",
       "      <td>chr1</td>\n",
       "      <td>400</td>\n",
       "      <td>600</td>\n",
       "      <td>0.0</td>\n",
       "      <td>0.0</td>\n",
       "      <td>0.0</td>\n",
       "      <td>0.0</td>\n",
       "      <td>0.0</td>\n",
       "      <td>0.0</td>\n",
       "      <td>0.0</td>\n",
       "      <td>0.0</td>\n",
       "      <td>0.0</td>\n",
       "      <td>0.0</td>\n",
       "      <td>0.0</td>\n",
       "      <td>0.0</td>\n",
       "      <td>0.0</td>\n",
       "      <td>0.0</td>\n",
       "      <td>0.0</td>\n",
       "      <td>0.0</td>\n",
       "      <td>0.47587</td>\n",
       "    </tr>\n",
       "    <tr>\n",
       "      <th>3</th>\n",
       "      <td>chr1</td>\n",
       "      <td>600</td>\n",
       "      <td>800</td>\n",
       "      <td>0.0</td>\n",
       "      <td>0.0</td>\n",
       "      <td>0.0</td>\n",
       "      <td>0.0</td>\n",
       "      <td>0.0</td>\n",
       "      <td>0.0</td>\n",
       "      <td>0.0</td>\n",
       "      <td>0.0</td>\n",
       "      <td>0.0</td>\n",
       "      <td>0.0</td>\n",
       "      <td>0.0</td>\n",
       "      <td>0.0</td>\n",
       "      <td>0.0</td>\n",
       "      <td>0.0</td>\n",
       "      <td>0.0</td>\n",
       "      <td>0.0</td>\n",
       "      <td>0.47587</td>\n",
       "    </tr>\n",
       "    <tr>\n",
       "      <th>4</th>\n",
       "      <td>chr1</td>\n",
       "      <td>800</td>\n",
       "      <td>1000</td>\n",
       "      <td>0.0</td>\n",
       "      <td>0.0</td>\n",
       "      <td>0.0</td>\n",
       "      <td>0.0</td>\n",
       "      <td>0.0</td>\n",
       "      <td>0.0</td>\n",
       "      <td>0.0</td>\n",
       "      <td>0.0</td>\n",
       "      <td>0.0</td>\n",
       "      <td>0.0</td>\n",
       "      <td>0.0</td>\n",
       "      <td>0.0</td>\n",
       "      <td>0.0</td>\n",
       "      <td>0.0</td>\n",
       "      <td>0.0</td>\n",
       "      <td>0.0</td>\n",
       "      <td>0.47587</td>\n",
       "    </tr>\n",
       "  </tbody>\n",
       "</table>\n",
       "</div>"
      ],
      "text/plain": [
       "  chromosome  start   end    3    4    5    6    7    8    9   10   11   12  \\\n",
       "0       chr1      0   200  0.0  0.0  0.0  0.0  0.0  0.0  0.0  0.0  0.0  0.0   \n",
       "1       chr1    200   400  0.0  0.0  0.0  0.0  0.0  0.0  0.0  0.0  0.0  0.0   \n",
       "2       chr1    400   600  0.0  0.0  0.0  0.0  0.0  0.0  0.0  0.0  0.0  0.0   \n",
       "3       chr1    600   800  0.0  0.0  0.0  0.0  0.0  0.0  0.0  0.0  0.0  0.0   \n",
       "4       chr1    800  1000  0.0  0.0  0.0  0.0  0.0  0.0  0.0  0.0  0.0  0.0   \n",
       "\n",
       "    13   14   15   16   17   18       19  \n",
       "0  0.0  0.0  0.0  0.0  0.0  0.0  0.47587  \n",
       "1  0.0  0.0  0.0  0.0  0.0  0.0  0.47587  \n",
       "2  0.0  0.0  0.0  0.0  0.0  0.0  0.47587  \n",
       "3  0.0  0.0  0.0  0.0  0.0  0.0  0.47587  \n",
       "4  0.0  0.0  0.0  0.0  0.0  0.0  0.47587  "
      ]
     },
     "execution_count": 9,
     "metadata": {},
     "output_type": "execute_result"
    }
   ],
   "source": [
    "data.head()"
   ]
  },
  {
   "cell_type": "code",
   "execution_count": 10,
   "id": "f4ae85fa",
   "metadata": {},
   "outputs": [],
   "source": [
    "%load_ext autoreload"
   ]
  },
  {
   "cell_type": "code",
   "execution_count": 11,
   "id": "dd087c9f",
   "metadata": {},
   "outputs": [],
   "source": [
    "%autoreload 2"
   ]
  },
  {
   "cell_type": "code",
   "execution_count": 26,
   "id": "e486b7ed",
   "metadata": {},
   "outputs": [],
   "source": [
    "import hilbertgenome"
   ]
  },
  {
   "cell_type": "code",
   "execution_count": 27,
   "id": "24bf9c9c",
   "metadata": {},
   "outputs": [],
   "source": [
    "def aggregator(data):\n",
    "    return data[factors].sum(axis=0).to_numpy()"
   ]
  },
  {
   "cell_type": "code",
   "execution_count": 28,
   "id": "13fbaaba",
   "metadata": {},
   "outputs": [],
   "source": [
    "def accessor(d):\n",
    "    # our dtype will want to match the value here\n",
    "    return d[factors].to_numpy()"
   ]
  },
  {
   "cell_type": "code",
   "execution_count": 29,
   "id": "7f7b7dba",
   "metadata": {},
   "outputs": [
    {
     "name": "stdout",
     "output_type": "stream",
     "text": [
      "data width 17\n",
      "order 6 individual False\n",
      "order 7 individual False\n",
      "order 8 individual False\n",
      "order 9 individual False\n",
      "order 10 individual False\n",
      "order 11 individual False\n",
      "order 12 individual True\n",
      "order 13 individual True\n",
      "order 14 individual True\n",
      "order 15 individual True\n"
     ]
    }
   ],
   "source": [
    "hg = hilbertgenome.HilbertGenome(data=data, \n",
    "                                 name=\"dhs_sum\",\n",
    "                                 aggregator=aggregator,\n",
    "                                 accessor=accessor,\n",
    "                                 dtype=\"float32\",\n",
    "                                 signal_resolution=200,\n",
    "                                 missing_value=0\n",
    "                                )"
   ]
  },
  {
   "cell_type": "code",
   "execution_count": 33,
   "id": "10f883f0",
   "metadata": {},
   "outputs": [],
   "source": [
    "params = hg.aggregate_chromosome(\"chrX\", 6)"
   ]
  },
  {
   "cell_type": "code",
   "execution_count": 34,
   "id": "2bb29ddf",
   "metadata": {},
   "outputs": [
    {
     "data": {
      "text/plain": [
       "{'chromosome': 'chrX',\n",
       " 'order': 6,\n",
       " 'hstart': 3813,\n",
       " 'hstop': 4020,\n",
       " 'gstart': 2875001522}"
      ]
     },
     "execution_count": 34,
     "metadata": {},
     "output_type": "execute_result"
    }
   ],
   "source": [
    "params[0]"
   ]
  },
  {
   "cell_type": "code",
   "execution_count": 35,
   "id": "4213e1a9",
   "metadata": {},
   "outputs": [
    {
     "data": {
      "text/plain": [
       "array([[ 0.0000000e+00,  0.0000000e+00,  4.4497334e+03, ...,\n",
       "         0.0000000e+00,  0.0000000e+00,  9.0229538e+01],\n",
       "       [ 9.7429840e+01,  0.0000000e+00,  8.0816782e+03, ...,\n",
       "         0.0000000e+00,  0.0000000e+00, -1.0417406e+03],\n",
       "       [ 0.0000000e+00,  0.0000000e+00,  3.2021868e+03, ...,\n",
       "         1.2648690e+01,  0.0000000e+00, -1.5226178e+02],\n",
       "       ...,\n",
       "       [ 0.0000000e+00,  0.0000000e+00,  4.6277099e+00, ...,\n",
       "         0.0000000e+00,  0.0000000e+00,  1.3544891e+03],\n",
       "       [ 3.7038841e+01,  0.0000000e+00,  0.0000000e+00, ...,\n",
       "         6.2563562e+02,  0.0000000e+00,  1.3717739e+03],\n",
       "       [ 0.0000000e+00,  0.0000000e+00,  0.0000000e+00, ...,\n",
       "         4.3365978e+01,  0.0000000e+00,  1.6628633e+03]], dtype=float32)"
      ]
     },
     "execution_count": 35,
     "metadata": {},
     "output_type": "execute_result"
    }
   ],
   "source": [
    "hg.aggregate_range_region(**params[0])"
   ]
  },
  {
   "cell_type": "code",
   "execution_count": 39,
   "id": "c35e8a3e",
   "metadata": {},
   "outputs": [
    {
     "name": "stdout",
     "output_type": "stream",
     "text": [
      "generating 24 files\n",
      "chr1 9 0 starting\n",
      "chr1 9 0 done in: 10.645295143127441\n",
      "chr2 9 21132 starting\n",
      "chr2 9 21132 done in: 10.148818731307983\n",
      "chr3 9 41690 starting\n",
      "chr3 9 41690 done in: 8.408786058425903\n",
      "chr4 9 58522 starting\n",
      "chr4 9 58522 done in: 8.137749910354614\n",
      "chr5 9 74668 starting\n",
      "chr5 9 74668 done in: 7.735008001327515\n",
      "chr6 9 90078 starting\n",
      "chr6 9 90078 done in: 7.416348934173584\n",
      "chr7 9 104577 starting\n",
      "chr7 9 104577 done in: 6.897778034210205\n",
      "chr8 9 118103 starting\n",
      "chr8 9 118103 done in: 6.39188814163208\n",
      "chr9 9 130422 starting\n",
      "chr9 9 130422 done in: 6.0618040561676025\n",
      "chr10 9 142170 starting\n",
      "chr10 9 142170 done in: 5.944384813308716\n",
      "chr11 9 153527 starting\n",
      "chr11 9 153527 done in: 5.950679063796997\n",
      "chr12 9 164994 starting\n",
      "chr12 9 164994 done in: 5.856544017791748\n",
      "chr13 9 176307 starting\n",
      "chr13 9 176307 done in: 5.104655027389526\n",
      "chr14 9 186014 starting\n",
      "chr14 9 186014 done in: 4.8400959968566895\n",
      "chr15 9 195101 starting\n",
      "chr15 9 195101 done in: 4.623320817947388\n",
      "chr16 9 203758 starting\n",
      "chr16 9 203758 done in: 4.108954191207886\n",
      "chr17 9 211426 starting\n",
      "chr17 9 211426 done in: 3.826195001602173\n",
      "chr18 9 218494 starting\n",
      "chr18 9 218494 done in: 3.6974258422851562\n",
      "chr19 9 225316 starting\n",
      "chr19 9 225316 done in: 2.8454508781433105\n",
      "chr20 9 230292 starting\n",
      "chr20 9 230292 done in: 3.093904972076416\n",
      "chr21 9 235762 starting\n",
      "chr21 9 235762 done in: 2.388951063156128\n",
      "chr22 9 239727 starting\n",
      "chr22 9 239727 done in: 2.570847988128662\n",
      "chrX 9 244040 starting\n",
      "chrX 9 244040 done in: 6.754570007324219\n",
      "chrY 9 257286 starting\n",
      "chrY 9 257286 done in: 2.782313346862793\n",
      "order 9 done in: 136.24064779281616\n",
      "combining files\n",
      "Combining files ['./data/chromosome_bytes/dhs_sum_chr1_9_0.float32', './data/chromosome_bytes/dhs_sum_chr2_9_21132.float32', './data/chromosome_bytes/dhs_sum_chr3_9_41690.float32', './data/chromosome_bytes/dhs_sum_chr4_9_58522.float32', './data/chromosome_bytes/dhs_sum_chr5_9_74668.float32', './data/chromosome_bytes/dhs_sum_chr6_9_90078.float32', './data/chromosome_bytes/dhs_sum_chr7_9_104577.float32', './data/chromosome_bytes/dhs_sum_chr8_9_118103.float32', './data/chromosome_bytes/dhs_sum_chr9_9_130422.float32', './data/chromosome_bytes/dhs_sum_chr10_9_142170.float32', './data/chromosome_bytes/dhs_sum_chr11_9_153527.float32', './data/chromosome_bytes/dhs_sum_chr12_9_164994.float32', './data/chromosome_bytes/dhs_sum_chr13_9_176307.float32', './data/chromosome_bytes/dhs_sum_chr14_9_186014.float32', './data/chromosome_bytes/dhs_sum_chr15_9_195101.float32', './data/chromosome_bytes/dhs_sum_chr16_9_203758.float32', './data/chromosome_bytes/dhs_sum_chr17_9_211426.float32', './data/chromosome_bytes/dhs_sum_chr18_9_218494.float32', './data/chromosome_bytes/dhs_sum_chr19_9_225316.float32', './data/chromosome_bytes/dhs_sum_chr20_9_230292.float32', './data/chromosome_bytes/dhs_sum_chr21_9_235762.float32', './data/chromosome_bytes/dhs_sum_chr22_9_239727.float32', './data/chromosome_bytes/dhs_sum_chrX_9_244040.float32', './data/chromosome_bytes/dhs_sum_chrY_9_257286.float32']\n",
      "all done!\n",
      "Combining files ['./data/chromosome_bytes/dhs_sum_chr1_9_0.json', './data/chromosome_bytes/dhs_sum_chr2_9_21132.json', './data/chromosome_bytes/dhs_sum_chr3_9_41690.json', './data/chromosome_bytes/dhs_sum_chr4_9_58522.json', './data/chromosome_bytes/dhs_sum_chr5_9_74668.json', './data/chromosome_bytes/dhs_sum_chr6_9_90078.json', './data/chromosome_bytes/dhs_sum_chr7_9_104577.json', './data/chromosome_bytes/dhs_sum_chr8_9_118103.json', './data/chromosome_bytes/dhs_sum_chr9_9_130422.json', './data/chromosome_bytes/dhs_sum_chr10_9_142170.json', './data/chromosome_bytes/dhs_sum_chr11_9_153527.json', './data/chromosome_bytes/dhs_sum_chr12_9_164994.json', './data/chromosome_bytes/dhs_sum_chr13_9_176307.json', './data/chromosome_bytes/dhs_sum_chr14_9_186014.json', './data/chromosome_bytes/dhs_sum_chr15_9_195101.json', './data/chromosome_bytes/dhs_sum_chr16_9_203758.json', './data/chromosome_bytes/dhs_sum_chr17_9_211426.json', './data/chromosome_bytes/dhs_sum_chr18_9_218494.json', './data/chromosome_bytes/dhs_sum_chr19_9_225316.json', './data/chromosome_bytes/dhs_sum_chr20_9_230292.json', './data/chromosome_bytes/dhs_sum_chr21_9_235762.json', './data/chromosome_bytes/dhs_sum_chr22_9_239727.json', './data/chromosome_bytes/dhs_sum_chrX_9_244040.json', './data/chromosome_bytes/dhs_sum_chrY_9_257286.json']\n",
      "all done!\n",
      "done with 9\n"
     ]
    }
   ],
   "source": [
    "hg.generate_order(9)"
   ]
  },
  {
   "cell_type": "code",
   "execution_count": null,
   "id": "74afe026",
   "metadata": {},
   "outputs": [],
   "source": []
  }
 ],
 "metadata": {
  "kernelspec": {
   "display_name": "Python 3 (ipykernel)",
   "language": "python",
   "name": "python3"
  },
  "language_info": {
   "codemirror_mode": {
    "name": "ipython",
    "version": 3
   },
   "file_extension": ".py",
   "mimetype": "text/x-python",
   "name": "python",
   "nbconvert_exporter": "python",
   "pygments_lexer": "ipython3",
   "version": "3.9.15"
  }
 },
 "nbformat": 4,
 "nbformat_minor": 5
}
