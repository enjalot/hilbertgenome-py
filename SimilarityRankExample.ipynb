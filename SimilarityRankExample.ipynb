{
 "cells": [
  {
   "cell_type": "code",
   "execution_count": 10,
   "id": "bdb6d67a",
   "metadata": {},
   "outputs": [],
   "source": [
    "import numpy as np\n",
    "import os"
   ]
  },
  {
   "cell_type": "code",
   "execution_count": 11,
   "id": "1dac947d",
   "metadata": {},
   "outputs": [],
   "source": [
    "data_dir = \"./data\""
   ]
  },
  {
   "cell_type": "code",
   "execution_count": 12,
   "id": "00c96602",
   "metadata": {},
   "outputs": [],
   "source": [
    "signal_local_fn = os.path.join(data_dir, \"regions_25kb_CT20230131.DHS_epilogos_factor_percentiles.bed\")"
   ]
  },
  {
   "cell_type": "code",
   "execution_count": 13,
   "id": "6391b09a",
   "metadata": {},
   "outputs": [],
   "source": [
    "import pandas as pd"
   ]
  },
  {
   "cell_type": "code",
   "execution_count": 18,
   "id": "75635669",
   "metadata": {},
   "outputs": [],
   "source": [
    "# read gzip'd file into pandas dataframe\n",
    "signal_df = pd.read_csv(signal_local_fn, sep='\\t')"
   ]
  },
  {
   "cell_type": "code",
   "execution_count": 19,
   "id": "abb09428",
   "metadata": {},
   "outputs": [
    {
     "data": {
      "text/html": [
       "<div>\n",
       "<style scoped>\n",
       "    .dataframe tbody tr th:only-of-type {\n",
       "        vertical-align: middle;\n",
       "    }\n",
       "\n",
       "    .dataframe tbody tr th {\n",
       "        vertical-align: top;\n",
       "    }\n",
       "\n",
       "    .dataframe thead th {\n",
       "        text-align: right;\n",
       "    }\n",
       "</style>\n",
       "<table border=\"1\" class=\"dataframe\">\n",
       "  <thead>\n",
       "    <tr style=\"text-align: right;\">\n",
       "      <th></th>\n",
       "      <th>chrm</th>\n",
       "      <th>start</th>\n",
       "      <th>end</th>\n",
       "      <th>Placental_trophoblast</th>\n",
       "      <th>Lymphoid</th>\n",
       "      <th>Myeloid_erythroid</th>\n",
       "      <th>Cardiac</th>\n",
       "      <th>Musculoskeletal</th>\n",
       "      <th>Vascular_endothelial</th>\n",
       "      <th>Primitive_embryonic</th>\n",
       "      <th>...</th>\n",
       "      <th>EnhA1</th>\n",
       "      <th>EnhA2</th>\n",
       "      <th>EnhWk</th>\n",
       "      <th>ZNF_Rpts</th>\n",
       "      <th>Het</th>\n",
       "      <th>TssBiv</th>\n",
       "      <th>EnhBiv</th>\n",
       "      <th>ReprPC</th>\n",
       "      <th>ReprPCWk</th>\n",
       "      <th>Quies</th>\n",
       "    </tr>\n",
       "  </thead>\n",
       "  <tbody>\n",
       "    <tr>\n",
       "      <th>0</th>\n",
       "      <td>chr1</td>\n",
       "      <td>22400</td>\n",
       "      <td>47400</td>\n",
       "      <td>0.0</td>\n",
       "      <td>0.0</td>\n",
       "      <td>0.0</td>\n",
       "      <td>0.0</td>\n",
       "      <td>0.0</td>\n",
       "      <td>0.0</td>\n",
       "      <td>0.0</td>\n",
       "      <td>...</td>\n",
       "      <td>0.0</td>\n",
       "      <td>0.0</td>\n",
       "      <td>0.0</td>\n",
       "      <td>0.0</td>\n",
       "      <td>0.0</td>\n",
       "      <td>0.0</td>\n",
       "      <td>0.0</td>\n",
       "      <td>0.0</td>\n",
       "      <td>0.0</td>\n",
       "      <td>1.0</td>\n",
       "    </tr>\n",
       "    <tr>\n",
       "      <th>1</th>\n",
       "      <td>chr1</td>\n",
       "      <td>54400</td>\n",
       "      <td>79400</td>\n",
       "      <td>0.0</td>\n",
       "      <td>0.0</td>\n",
       "      <td>0.0</td>\n",
       "      <td>0.0</td>\n",
       "      <td>0.0</td>\n",
       "      <td>0.0</td>\n",
       "      <td>0.0</td>\n",
       "      <td>...</td>\n",
       "      <td>0.0</td>\n",
       "      <td>0.0</td>\n",
       "      <td>0.0</td>\n",
       "      <td>0.0</td>\n",
       "      <td>0.0</td>\n",
       "      <td>0.0</td>\n",
       "      <td>0.0</td>\n",
       "      <td>0.0</td>\n",
       "      <td>0.0</td>\n",
       "      <td>1.0</td>\n",
       "    </tr>\n",
       "    <tr>\n",
       "      <th>2</th>\n",
       "      <td>chr1</td>\n",
       "      <td>94200</td>\n",
       "      <td>119200</td>\n",
       "      <td>0.0</td>\n",
       "      <td>0.0</td>\n",
       "      <td>0.0</td>\n",
       "      <td>0.0</td>\n",
       "      <td>0.0</td>\n",
       "      <td>0.0</td>\n",
       "      <td>0.0</td>\n",
       "      <td>...</td>\n",
       "      <td>0.0</td>\n",
       "      <td>0.0</td>\n",
       "      <td>0.0</td>\n",
       "      <td>0.0</td>\n",
       "      <td>0.0</td>\n",
       "      <td>0.0</td>\n",
       "      <td>0.0</td>\n",
       "      <td>0.0</td>\n",
       "      <td>0.0</td>\n",
       "      <td>1.0</td>\n",
       "    </tr>\n",
       "    <tr>\n",
       "      <th>3</th>\n",
       "      <td>chr1</td>\n",
       "      <td>129600</td>\n",
       "      <td>154600</td>\n",
       "      <td>0.0</td>\n",
       "      <td>0.0</td>\n",
       "      <td>0.0</td>\n",
       "      <td>0.0</td>\n",
       "      <td>0.0</td>\n",
       "      <td>0.0</td>\n",
       "      <td>0.0</td>\n",
       "      <td>...</td>\n",
       "      <td>0.0</td>\n",
       "      <td>0.0</td>\n",
       "      <td>0.0</td>\n",
       "      <td>0.0</td>\n",
       "      <td>0.0</td>\n",
       "      <td>0.0</td>\n",
       "      <td>0.0</td>\n",
       "      <td>0.0</td>\n",
       "      <td>0.0</td>\n",
       "      <td>1.0</td>\n",
       "    </tr>\n",
       "    <tr>\n",
       "      <th>4</th>\n",
       "      <td>chr1</td>\n",
       "      <td>154800</td>\n",
       "      <td>260449</td>\n",
       "      <td>0.0</td>\n",
       "      <td>0.0</td>\n",
       "      <td>0.0</td>\n",
       "      <td>0.0</td>\n",
       "      <td>0.0</td>\n",
       "      <td>0.0</td>\n",
       "      <td>0.0</td>\n",
       "      <td>...</td>\n",
       "      <td>0.0</td>\n",
       "      <td>0.0</td>\n",
       "      <td>0.0</td>\n",
       "      <td>0.0</td>\n",
       "      <td>0.0</td>\n",
       "      <td>0.0</td>\n",
       "      <td>0.0</td>\n",
       "      <td>0.0</td>\n",
       "      <td>0.0</td>\n",
       "      <td>1.0</td>\n",
       "    </tr>\n",
       "  </tbody>\n",
       "</table>\n",
       "<p>5 rows × 37 columns</p>\n",
       "</div>"
      ],
      "text/plain": [
       "   chrm   start     end  Placental_trophoblast  Lymphoid  Myeloid_erythroid  \\\n",
       "0  chr1   22400   47400                    0.0       0.0                0.0   \n",
       "1  chr1   54400   79400                    0.0       0.0                0.0   \n",
       "2  chr1   94200  119200                    0.0       0.0                0.0   \n",
       "3  chr1  129600  154600                    0.0       0.0                0.0   \n",
       "4  chr1  154800  260449                    0.0       0.0                0.0   \n",
       "\n",
       "   Cardiac  Musculoskeletal  Vascular_endothelial  Primitive_embryonic  ...  \\\n",
       "0      0.0              0.0                   0.0                  0.0  ...   \n",
       "1      0.0              0.0                   0.0                  0.0  ...   \n",
       "2      0.0              0.0                   0.0                  0.0  ...   \n",
       "3      0.0              0.0                   0.0                  0.0  ...   \n",
       "4      0.0              0.0                   0.0                  0.0  ...   \n",
       "\n",
       "   EnhA1  EnhA2  EnhWk  ZNF_Rpts  Het  TssBiv  EnhBiv  ReprPC  ReprPCWk  Quies  \n",
       "0    0.0    0.0    0.0       0.0  0.0     0.0     0.0     0.0       0.0    1.0  \n",
       "1    0.0    0.0    0.0       0.0  0.0     0.0     0.0     0.0       0.0    1.0  \n",
       "2    0.0    0.0    0.0       0.0  0.0     0.0     0.0     0.0       0.0    1.0  \n",
       "3    0.0    0.0    0.0       0.0  0.0     0.0     0.0     0.0       0.0    1.0  \n",
       "4    0.0    0.0    0.0       0.0  0.0     0.0     0.0     0.0       0.0    1.0  \n",
       "\n",
       "[5 rows x 37 columns]"
      ]
     },
     "execution_count": 19,
     "metadata": {},
     "output_type": "execute_result"
    }
   ],
   "source": [
    "signal_df.head(5)"
   ]
  },
  {
   "cell_type": "code",
   "execution_count": 115,
   "id": "2c46bede",
   "metadata": {},
   "outputs": [
    {
     "data": {
      "text/plain": [
       "[(-3, 'chrm'),\n",
       " (-2, 'start'),\n",
       " (-1, 'end'),\n",
       " (0, 'Placental_trophoblast'),\n",
       " (1, 'Lymphoid'),\n",
       " (2, 'Myeloid_erythroid'),\n",
       " (3, 'Cardiac'),\n",
       " (4, 'Musculoskeletal'),\n",
       " (5, 'Vascular_endothelial'),\n",
       " (6, 'Primitive_embryonic'),\n",
       " (7, 'Neural'),\n",
       " (8, 'Digestive'),\n",
       " (9, 'StromalA'),\n",
       " (10, 'StromalB'),\n",
       " (11, 'Renal_cancer'),\n",
       " (12, 'Cancer_epithelial'),\n",
       " (13, 'Pulmonarydevel'),\n",
       " (14, 'Organdevel_renal'),\n",
       " (15, 'Tissueinvariant'),\n",
       " (16, 'TssA'),\n",
       " (17, 'TssFlnk'),\n",
       " (18, 'TssFlnkU'),\n",
       " (19, 'TssFlnkD'),\n",
       " (20, 'Tx'),\n",
       " (21, 'TxWk'),\n",
       " (22, 'EnhG1'),\n",
       " (23, 'EnhG2'),\n",
       " (24, 'EnhA1'),\n",
       " (25, 'EnhA2'),\n",
       " (26, 'EnhWk'),\n",
       " (27, 'ZNF_Rpts'),\n",
       " (28, 'Het'),\n",
       " (29, 'TssBiv'),\n",
       " (30, 'EnhBiv'),\n",
       " (31, 'ReprPC'),\n",
       " (32, 'ReprPCWk'),\n",
       " (33, 'Quies')]"
      ]
     },
     "execution_count": 115,
     "metadata": {},
     "output_type": "execute_result"
    }
   ],
   "source": [
    "[(i - 3,d) for i,d in enumerate(signal_df.columns)]"
   ]
  },
  {
   "cell_type": "code",
   "execution_count": 28,
   "id": "59185a92",
   "metadata": {},
   "outputs": [],
   "source": [
    "factors = [str(s) for s in signal_df.columns[3:]]"
   ]
  },
  {
   "cell_type": "code",
   "execution_count": 43,
   "id": "ad40cdd2",
   "metadata": {},
   "outputs": [],
   "source": [
    "data = signal_df.rename(columns={\"chrm\":\"chromosome\"})"
   ]
  },
  {
   "cell_type": "code",
   "execution_count": 45,
   "id": "a0842287",
   "metadata": {},
   "outputs": [
    {
     "data": {
      "text/html": [
       "<div>\n",
       "<style scoped>\n",
       "    .dataframe tbody tr th:only-of-type {\n",
       "        vertical-align: middle;\n",
       "    }\n",
       "\n",
       "    .dataframe tbody tr th {\n",
       "        vertical-align: top;\n",
       "    }\n",
       "\n",
       "    .dataframe thead th {\n",
       "        text-align: right;\n",
       "    }\n",
       "</style>\n",
       "<table border=\"1\" class=\"dataframe\">\n",
       "  <thead>\n",
       "    <tr style=\"text-align: right;\">\n",
       "      <th></th>\n",
       "      <th>chromosome</th>\n",
       "      <th>start</th>\n",
       "      <th>end</th>\n",
       "      <th>Placental_trophoblast</th>\n",
       "      <th>Lymphoid</th>\n",
       "      <th>Myeloid_erythroid</th>\n",
       "      <th>Cardiac</th>\n",
       "      <th>Musculoskeletal</th>\n",
       "      <th>Vascular_endothelial</th>\n",
       "      <th>Primitive_embryonic</th>\n",
       "      <th>...</th>\n",
       "      <th>EnhA1</th>\n",
       "      <th>EnhA2</th>\n",
       "      <th>EnhWk</th>\n",
       "      <th>ZNF_Rpts</th>\n",
       "      <th>Het</th>\n",
       "      <th>TssBiv</th>\n",
       "      <th>EnhBiv</th>\n",
       "      <th>ReprPC</th>\n",
       "      <th>ReprPCWk</th>\n",
       "      <th>Quies</th>\n",
       "    </tr>\n",
       "  </thead>\n",
       "  <tbody>\n",
       "    <tr>\n",
       "      <th>0</th>\n",
       "      <td>chr1</td>\n",
       "      <td>22400</td>\n",
       "      <td>47400</td>\n",
       "      <td>0.0</td>\n",
       "      <td>0.0</td>\n",
       "      <td>0.0</td>\n",
       "      <td>0.0</td>\n",
       "      <td>0.0</td>\n",
       "      <td>0.0</td>\n",
       "      <td>0.0</td>\n",
       "      <td>...</td>\n",
       "      <td>0.0</td>\n",
       "      <td>0.0</td>\n",
       "      <td>0.0</td>\n",
       "      <td>0.0</td>\n",
       "      <td>0.0</td>\n",
       "      <td>0.0</td>\n",
       "      <td>0.0</td>\n",
       "      <td>0.0</td>\n",
       "      <td>0.0</td>\n",
       "      <td>1.0</td>\n",
       "    </tr>\n",
       "    <tr>\n",
       "      <th>1</th>\n",
       "      <td>chr1</td>\n",
       "      <td>54400</td>\n",
       "      <td>79400</td>\n",
       "      <td>0.0</td>\n",
       "      <td>0.0</td>\n",
       "      <td>0.0</td>\n",
       "      <td>0.0</td>\n",
       "      <td>0.0</td>\n",
       "      <td>0.0</td>\n",
       "      <td>0.0</td>\n",
       "      <td>...</td>\n",
       "      <td>0.0</td>\n",
       "      <td>0.0</td>\n",
       "      <td>0.0</td>\n",
       "      <td>0.0</td>\n",
       "      <td>0.0</td>\n",
       "      <td>0.0</td>\n",
       "      <td>0.0</td>\n",
       "      <td>0.0</td>\n",
       "      <td>0.0</td>\n",
       "      <td>1.0</td>\n",
       "    </tr>\n",
       "    <tr>\n",
       "      <th>2</th>\n",
       "      <td>chr1</td>\n",
       "      <td>94200</td>\n",
       "      <td>119200</td>\n",
       "      <td>0.0</td>\n",
       "      <td>0.0</td>\n",
       "      <td>0.0</td>\n",
       "      <td>0.0</td>\n",
       "      <td>0.0</td>\n",
       "      <td>0.0</td>\n",
       "      <td>0.0</td>\n",
       "      <td>...</td>\n",
       "      <td>0.0</td>\n",
       "      <td>0.0</td>\n",
       "      <td>0.0</td>\n",
       "      <td>0.0</td>\n",
       "      <td>0.0</td>\n",
       "      <td>0.0</td>\n",
       "      <td>0.0</td>\n",
       "      <td>0.0</td>\n",
       "      <td>0.0</td>\n",
       "      <td>1.0</td>\n",
       "    </tr>\n",
       "    <tr>\n",
       "      <th>3</th>\n",
       "      <td>chr1</td>\n",
       "      <td>129600</td>\n",
       "      <td>154600</td>\n",
       "      <td>0.0</td>\n",
       "      <td>0.0</td>\n",
       "      <td>0.0</td>\n",
       "      <td>0.0</td>\n",
       "      <td>0.0</td>\n",
       "      <td>0.0</td>\n",
       "      <td>0.0</td>\n",
       "      <td>...</td>\n",
       "      <td>0.0</td>\n",
       "      <td>0.0</td>\n",
       "      <td>0.0</td>\n",
       "      <td>0.0</td>\n",
       "      <td>0.0</td>\n",
       "      <td>0.0</td>\n",
       "      <td>0.0</td>\n",
       "      <td>0.0</td>\n",
       "      <td>0.0</td>\n",
       "      <td>1.0</td>\n",
       "    </tr>\n",
       "    <tr>\n",
       "      <th>4</th>\n",
       "      <td>chr1</td>\n",
       "      <td>154800</td>\n",
       "      <td>260449</td>\n",
       "      <td>0.0</td>\n",
       "      <td>0.0</td>\n",
       "      <td>0.0</td>\n",
       "      <td>0.0</td>\n",
       "      <td>0.0</td>\n",
       "      <td>0.0</td>\n",
       "      <td>0.0</td>\n",
       "      <td>...</td>\n",
       "      <td>0.0</td>\n",
       "      <td>0.0</td>\n",
       "      <td>0.0</td>\n",
       "      <td>0.0</td>\n",
       "      <td>0.0</td>\n",
       "      <td>0.0</td>\n",
       "      <td>0.0</td>\n",
       "      <td>0.0</td>\n",
       "      <td>0.0</td>\n",
       "      <td>1.0</td>\n",
       "    </tr>\n",
       "  </tbody>\n",
       "</table>\n",
       "<p>5 rows × 37 columns</p>\n",
       "</div>"
      ],
      "text/plain": [
       "  chromosome   start     end  Placental_trophoblast  Lymphoid  \\\n",
       "0       chr1   22400   47400                    0.0       0.0   \n",
       "1       chr1   54400   79400                    0.0       0.0   \n",
       "2       chr1   94200  119200                    0.0       0.0   \n",
       "3       chr1  129600  154600                    0.0       0.0   \n",
       "4       chr1  154800  260449                    0.0       0.0   \n",
       "\n",
       "   Myeloid_erythroid  Cardiac  Musculoskeletal  Vascular_endothelial  \\\n",
       "0                0.0      0.0              0.0                   0.0   \n",
       "1                0.0      0.0              0.0                   0.0   \n",
       "2                0.0      0.0              0.0                   0.0   \n",
       "3                0.0      0.0              0.0                   0.0   \n",
       "4                0.0      0.0              0.0                   0.0   \n",
       "\n",
       "   Primitive_embryonic  ...  EnhA1  EnhA2  EnhWk  ZNF_Rpts  Het  TssBiv  \\\n",
       "0                  0.0  ...    0.0    0.0    0.0       0.0  0.0     0.0   \n",
       "1                  0.0  ...    0.0    0.0    0.0       0.0  0.0     0.0   \n",
       "2                  0.0  ...    0.0    0.0    0.0       0.0  0.0     0.0   \n",
       "3                  0.0  ...    0.0    0.0    0.0       0.0  0.0     0.0   \n",
       "4                  0.0  ...    0.0    0.0    0.0       0.0  0.0     0.0   \n",
       "\n",
       "   EnhBiv  ReprPC  ReprPCWk  Quies  \n",
       "0     0.0     0.0       0.0    1.0  \n",
       "1     0.0     0.0       0.0    1.0  \n",
       "2     0.0     0.0       0.0    1.0  \n",
       "3     0.0     0.0       0.0    1.0  \n",
       "4     0.0     0.0       0.0    1.0  \n",
       "\n",
       "[5 rows x 37 columns]"
      ]
     },
     "execution_count": 45,
     "metadata": {},
     "output_type": "execute_result"
    }
   ],
   "source": [
    "data.head()"
   ]
  },
  {
   "cell_type": "code",
   "execution_count": 33,
   "id": "f4ae85fa",
   "metadata": {},
   "outputs": [
    {
     "name": "stdout",
     "output_type": "stream",
     "text": [
      "The autoreload extension is already loaded. To reload it, use:\n",
      "  %reload_ext autoreload\n"
     ]
    }
   ],
   "source": [
    "%load_ext autoreload"
   ]
  },
  {
   "cell_type": "code",
   "execution_count": 34,
   "id": "dd087c9f",
   "metadata": {},
   "outputs": [],
   "source": [
    "%autoreload 2"
   ]
  },
  {
   "cell_type": "code",
   "execution_count": 35,
   "id": "e486b7ed",
   "metadata": {},
   "outputs": [],
   "source": [
    "import hilbertgenome"
   ]
  },
  {
   "cell_type": "code",
   "execution_count": 74,
   "id": "24bf9c9c",
   "metadata": {},
   "outputs": [],
   "source": [
    "def aggregator(data):\n",
    "    return data[factors].sum(axis=0).to_numpy()"
   ]
  },
  {
   "cell_type": "code",
   "execution_count": 107,
   "id": "13fbaaba",
   "metadata": {},
   "outputs": [],
   "source": [
    "def accessor(d):\n",
    "    # our dtype will want to match the value here\n",
    "    return d[factors].to_numpy()"
   ]
  },
  {
   "cell_type": "code",
   "execution_count": 125,
   "id": "7f7b7dba",
   "metadata": {},
   "outputs": [
    {
     "name": "stdout",
     "output_type": "stream",
     "text": [
      "data width 34\n",
      "order 6 individual False\n",
      "order 7 individual False\n",
      "order 8 individual False\n",
      "order 9 individual True\n",
      "order 10 individual True\n",
      "order 11 individual True\n",
      "order 12 individual True\n",
      "order 13 individual True\n",
      "order 14 individual True\n",
      "order 15 individual True\n"
     ]
    }
   ],
   "source": [
    "hg = hilbertgenome.HilbertGenome(data=data, \n",
    "                                 name=\"sr_sum2\",\n",
    "                                 aggregator=aggregator,\n",
    "                                 accessor=accessor,\n",
    "                                 dtype=\"float32\",\n",
    "                                 signal_resolution=25000,\n",
    "                                 missing_value=0\n",
    "                                )"
   ]
  },
  {
   "cell_type": "code",
   "execution_count": 126,
   "id": "709bfe96",
   "metadata": {},
   "outputs": [],
   "source": [
    "params = hg.aggregate_chromosome(\"chrX\", 6)"
   ]
  },
  {
   "cell_type": "code",
   "execution_count": 127,
   "id": "916c3ad9",
   "metadata": {},
   "outputs": [
    {
     "data": {
      "text/plain": [
       "{'chromosome': 'chrX',\n",
       " 'order': 6,\n",
       " 'hstart': 3813,\n",
       " 'hstop': 4020,\n",
       " 'gstart': 2875001522}"
      ]
     },
     "execution_count": 127,
     "metadata": {},
     "output_type": "execute_result"
    }
   ],
   "source": [
    "params[0]"
   ]
  },
  {
   "cell_type": "code",
   "execution_count": 128,
   "id": "94aedefd",
   "metadata": {},
   "outputs": [],
   "source": [
    "v = hg.aggregate_range_region(**params[0])"
   ]
  },
  {
   "cell_type": "code",
   "execution_count": 129,
   "id": "014c38fd",
   "metadata": {},
   "outputs": [
    {
     "data": {
      "text/plain": [
       "array([[ 1.4322,  0.629 ,  0.4889, ...,  0.    ,  0.    , 17.    ],\n",
       "       [ 4.9826,  4.273 ,  5.2058, ...,  0.    ,  0.    , 29.    ],\n",
       "       [ 1.3874,  6.1953,  3.4224, ...,  0.    ,  0.    , 22.    ],\n",
       "       ...,\n",
       "       [ 1.0462,  4.6342,  2.1478, ...,  2.4423,  4.0863,  4.2075],\n",
       "       [ 1.4198,  1.4428,  2.1333, ...,  1.0605,  0.4967,  9.5075],\n",
       "       [ 0.9054,  0.9169,  0.9546, ...,  0.    ,  0.    , 18.2429]],\n",
       "      dtype=float32)"
      ]
     },
     "execution_count": 129,
     "metadata": {},
     "output_type": "execute_result"
    }
   ],
   "source": [
    "v"
   ]
  },
  {
   "cell_type": "code",
   "execution_count": 130,
   "id": "e9893024",
   "metadata": {},
   "outputs": [
    {
     "data": {
      "text/plain": [
       "array([ 6.2547,  6.1953,  6.1707,  3.0183,  7.2844,  2.7566, 10.0867,\n",
       "        5.6178,  5.5432,  4.6663,  6.3935,  4.0132,  8.7766,  4.3159,\n",
       "        6.391 ,  5.7217,  8.1749,  9.5556,  8.2096,  3.6441,  5.3117,\n",
       "        9.6589,  2.425 ,  1.3345, 10.7282, 12.7482,  9.4132, 10.9255,\n",
       "       17.4722,  4.1929,  6.8655,  3.9735, 13.0229, 29.    ],\n",
       "      dtype=float32)"
      ]
     },
     "execution_count": 130,
     "metadata": {},
     "output_type": "execute_result"
    }
   ],
   "source": [
    "np.amax(v, axis=0)"
   ]
  },
  {
   "cell_type": "code",
   "execution_count": 133,
   "id": "c35e8a3e",
   "metadata": {},
   "outputs": [
    {
     "name": "stdout",
     "output_type": "stream",
     "text": [
      "generating 24 files\n",
      "chr1 6 0 starting\n",
      "min,max 7.065100193023682\n",
      "chr1 6 0 done in: 0.09930777549743652\n",
      "chr2 6 330 starting\n",
      "min,max 10.293999671936035\n",
      "chr2 6 330 done in: 0.1029198169708252\n",
      "chr3 6 651 starting\n",
      "min,max 6.9293999671936035\n",
      "chr3 6 651 done in: 0.08685517311096191\n",
      "chr4 6 914 starting\n",
      "min,max 5.837100028991699\n",
      "chr4 6 914 done in: 0.08259892463684082\n",
      "chr5 6 1166 starting\n",
      "min,max 7.557499885559082\n",
      "chr5 6 1166 done in: 0.08038330078125\n",
      "chr6 6 1407 starting\n",
      "min,max 8.648500442504883\n",
      "chr6 6 1407 done in: 0.08179187774658203\n",
      "chr7 6 1634 starting\n",
      "min,max 7.858099937438965\n",
      "chr7 6 1634 done in: 0.0726461410522461\n",
      "chr8 6 1845 starting\n",
      "min,max 7.629300117492676\n",
      "chr8 6 1845 done in: 0.06562304496765137\n",
      "chr9 6 2037 starting\n",
      "min,max 10.411100387573242\n",
      "chr9 6 2037 done in: 0.05472207069396973\n",
      "chr10 6 2221 starting\n",
      "min,max 6.993299961090088\n",
      "chr10 6 2221 done in: 0.06117892265319824\n",
      "chr11 6 2398 starting\n",
      "min,max 6.597099781036377\n",
      "chr11 6 2398 done in: 0.06040501594543457\n",
      "chr12 6 2578 starting\n",
      "min,max 6.241199970245361\n",
      "chr12 6 2578 done in: 0.06056690216064453\n",
      "chr13 6 2754 starting\n",
      "min,max 7.623799800872803\n",
      "chr13 6 2754 done in: 0.046948909759521484\n",
      "chr14 6 2906 starting\n",
      "min,max 8.278599739074707\n",
      "chr14 6 2906 done in: 0.04334306716918945\n",
      "chr15 6 3048 starting\n",
      "min,max 7.427999973297119\n",
      "chr15 6 3048 done in: 0.03898501396179199\n",
      "chr16 6 3183 starting\n",
      "min,max 9.095399856567383\n",
      "chr16 6 3183 done in: 0.037609100341796875\n",
      "chr17 6 3303 starting\n",
      "min,max 7.552999973297119\n",
      "chr17 6 3303 done in: 0.03662586212158203\n",
      "chr18 6 3413 starting\n",
      "min,max 6.970900058746338\n",
      "chr18 6 3413 done in: 0.035733938217163086\n",
      "chr19 6 3520 starting\n",
      "min,max 6.312099933624268\n",
      "chr19 6 3520 done in: 0.027637958526611328\n",
      "chr20 6 3598 starting\n",
      "min,max 5.9721999168396\n",
      "chr20 6 3598 done in: 0.02934408187866211\n",
      "chr21 6 3683 starting\n",
      "min,max 6.182199954986572\n",
      "chr21 6 3683 done in: 0.01908397674560547\n",
      "chr22 6 3745 starting\n",
      "min,max 5.983099937438965\n",
      "chr22 6 3745 done in: 0.018883943557739258\n",
      "chrX 6 3813 starting\n",
      "min,max 4.315899848937988\n",
      "chrX 6 3813 done in: 0.06806802749633789\n",
      "chrY 6 4020 starting\n",
      "min,max 0.0\n",
      "chrY 6 4020 done in: 0.0033867359161376953\n",
      "order 6 done in: 1.3150122165679932\n",
      "combining files\n",
      "Combining files ['./data/chromosome_bytes/sr_sum2_chr1_6_0.float32', './data/chromosome_bytes/sr_sum2_chr2_6_330.float32', './data/chromosome_bytes/sr_sum2_chr3_6_651.float32', './data/chromosome_bytes/sr_sum2_chr4_6_914.float32', './data/chromosome_bytes/sr_sum2_chr5_6_1166.float32', './data/chromosome_bytes/sr_sum2_chr6_6_1407.float32', './data/chromosome_bytes/sr_sum2_chr7_6_1634.float32', './data/chromosome_bytes/sr_sum2_chr8_6_1845.float32', './data/chromosome_bytes/sr_sum2_chr9_6_2037.float32', './data/chromosome_bytes/sr_sum2_chr10_6_2221.float32', './data/chromosome_bytes/sr_sum2_chr11_6_2398.float32', './data/chromosome_bytes/sr_sum2_chr12_6_2578.float32', './data/chromosome_bytes/sr_sum2_chr13_6_2754.float32', './data/chromosome_bytes/sr_sum2_chr14_6_2906.float32', './data/chromosome_bytes/sr_sum2_chr15_6_3048.float32', './data/chromosome_bytes/sr_sum2_chr16_6_3183.float32', './data/chromosome_bytes/sr_sum2_chr17_6_3303.float32', './data/chromosome_bytes/sr_sum2_chr18_6_3413.float32', './data/chromosome_bytes/sr_sum2_chr19_6_3520.float32', './data/chromosome_bytes/sr_sum2_chr20_6_3598.float32', './data/chromosome_bytes/sr_sum2_chr21_6_3683.float32', './data/chromosome_bytes/sr_sum2_chr22_6_3745.float32', './data/chromosome_bytes/sr_sum2_chrX_6_3813.float32', './data/chromosome_bytes/sr_sum2_chrY_6_4020.float32']\n",
      "all done!\n",
      "Combining files ['./data/chromosome_bytes/sr_sum2_chr1_6_0.json', './data/chromosome_bytes/sr_sum2_chr2_6_330.json', './data/chromosome_bytes/sr_sum2_chr3_6_651.json', './data/chromosome_bytes/sr_sum2_chr4_6_914.json', './data/chromosome_bytes/sr_sum2_chr5_6_1166.json', './data/chromosome_bytes/sr_sum2_chr6_6_1407.json', './data/chromosome_bytes/sr_sum2_chr7_6_1634.json', './data/chromosome_bytes/sr_sum2_chr8_6_1845.json', './data/chromosome_bytes/sr_sum2_chr9_6_2037.json', './data/chromosome_bytes/sr_sum2_chr10_6_2221.json', './data/chromosome_bytes/sr_sum2_chr11_6_2398.json', './data/chromosome_bytes/sr_sum2_chr12_6_2578.json', './data/chromosome_bytes/sr_sum2_chr13_6_2754.json', './data/chromosome_bytes/sr_sum2_chr14_6_2906.json', './data/chromosome_bytes/sr_sum2_chr15_6_3048.json', './data/chromosome_bytes/sr_sum2_chr16_6_3183.json', './data/chromosome_bytes/sr_sum2_chr17_6_3303.json', './data/chromosome_bytes/sr_sum2_chr18_6_3413.json', './data/chromosome_bytes/sr_sum2_chr19_6_3520.json', './data/chromosome_bytes/sr_sum2_chr20_6_3598.json', './data/chromosome_bytes/sr_sum2_chr21_6_3683.json', './data/chromosome_bytes/sr_sum2_chr22_6_3745.json', './data/chromosome_bytes/sr_sum2_chrX_6_3813.json', './data/chromosome_bytes/sr_sum2_chrY_6_4020.json']\n",
      "all done!\n",
      "done with 6\n"
     ]
    }
   ],
   "source": [
    "hg.generate_order(6)"
   ]
  },
  {
   "cell_type": "code",
   "execution_count": 134,
   "id": "74afe026",
   "metadata": {},
   "outputs": [],
   "source": [
    "with open('./data/sr_sum2_6.float32', 'rb') as rf:\n",
    "    a = np.frombuffer(rf.read(), dtype=\"float32\")"
   ]
  },
  {
   "cell_type": "code",
   "execution_count": 138,
   "id": "40396c41",
   "metadata": {},
   "outputs": [
    {
     "data": {
      "text/plain": [
       "4096.0"
      ]
     },
     "execution_count": 138,
     "metadata": {},
     "output_type": "execute_result"
    }
   ],
   "source": [
    "len(a) / 34"
   ]
  },
  {
   "cell_type": "code",
   "execution_count": null,
   "id": "f00a171f",
   "metadata": {},
   "outputs": [],
   "source": []
  }
 ],
 "metadata": {
  "kernelspec": {
   "display_name": "Python 3 (ipykernel)",
   "language": "python",
   "name": "python3"
  },
  "language_info": {
   "codemirror_mode": {
    "name": "ipython",
    "version": 3
   },
   "file_extension": ".py",
   "mimetype": "text/x-python",
   "name": "python",
   "nbconvert_exporter": "python",
   "pygments_lexer": "ipython3",
   "version": "3.9.15"
  }
 },
 "nbformat": 4,
 "nbformat_minor": 5
}
