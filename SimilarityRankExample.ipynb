{
 "cells": [
  {
   "cell_type": "code",
   "execution_count": 10,
   "id": "bdb6d67a",
   "metadata": {},
   "outputs": [],
   "source": [
    "import numpy as np\n",
    "import os"
   ]
  },
  {
   "cell_type": "code",
   "execution_count": 11,
   "id": "1dac947d",
   "metadata": {},
   "outputs": [],
   "source": [
    "data_dir = \"./data\""
   ]
  },
  {
   "cell_type": "code",
   "execution_count": 12,
   "id": "00c96602",
   "metadata": {},
   "outputs": [],
   "source": [
    "signal_local_fn = os.path.join(data_dir, \"regions_25kb_CT20230131.DHS_epilogos_factor_percentiles.bed\")"
   ]
  },
  {
   "cell_type": "code",
   "execution_count": 13,
   "id": "6391b09a",
   "metadata": {},
   "outputs": [],
   "source": [
    "import pandas as pd"
   ]
  },
  {
   "cell_type": "code",
   "execution_count": 18,
   "id": "75635669",
   "metadata": {},
   "outputs": [],
   "source": [
    "# read gzip'd file into pandas dataframe\n",
    "signal_df = pd.read_csv(signal_local_fn, sep='\\t')"
   ]
  },
  {
   "cell_type": "code",
   "execution_count": 19,
   "id": "abb09428",
   "metadata": {},
   "outputs": [
    {
     "data": {
      "text/html": [
       "<div>\n",
       "<style scoped>\n",
       "    .dataframe tbody tr th:only-of-type {\n",
       "        vertical-align: middle;\n",
       "    }\n",
       "\n",
       "    .dataframe tbody tr th {\n",
       "        vertical-align: top;\n",
       "    }\n",
       "\n",
       "    .dataframe thead th {\n",
       "        text-align: right;\n",
       "    }\n",
       "</style>\n",
       "<table border=\"1\" class=\"dataframe\">\n",
       "  <thead>\n",
       "    <tr style=\"text-align: right;\">\n",
       "      <th></th>\n",
       "      <th>chrm</th>\n",
       "      <th>start</th>\n",
       "      <th>end</th>\n",
       "      <th>Placental_trophoblast</th>\n",
       "      <th>Lymphoid</th>\n",
       "      <th>Myeloid_erythroid</th>\n",
       "      <th>Cardiac</th>\n",
       "      <th>Musculoskeletal</th>\n",
       "      <th>Vascular_endothelial</th>\n",
       "      <th>Primitive_embryonic</th>\n",
       "      <th>...</th>\n",
       "      <th>EnhA1</th>\n",
       "      <th>EnhA2</th>\n",
       "      <th>EnhWk</th>\n",
       "      <th>ZNF_Rpts</th>\n",
       "      <th>Het</th>\n",
       "      <th>TssBiv</th>\n",
       "      <th>EnhBiv</th>\n",
       "      <th>ReprPC</th>\n",
       "      <th>ReprPCWk</th>\n",
       "      <th>Quies</th>\n",
       "    </tr>\n",
       "  </thead>\n",
       "  <tbody>\n",
       "    <tr>\n",
       "      <th>0</th>\n",
       "      <td>chr1</td>\n",
       "      <td>22400</td>\n",
       "      <td>47400</td>\n",
       "      <td>0.0</td>\n",
       "      <td>0.0</td>\n",
       "      <td>0.0</td>\n",
       "      <td>0.0</td>\n",
       "      <td>0.0</td>\n",
       "      <td>0.0</td>\n",
       "      <td>0.0</td>\n",
       "      <td>...</td>\n",
       "      <td>0.0</td>\n",
       "      <td>0.0</td>\n",
       "      <td>0.0</td>\n",
       "      <td>0.0</td>\n",
       "      <td>0.0</td>\n",
       "      <td>0.0</td>\n",
       "      <td>0.0</td>\n",
       "      <td>0.0</td>\n",
       "      <td>0.0</td>\n",
       "      <td>1.0</td>\n",
       "    </tr>\n",
       "    <tr>\n",
       "      <th>1</th>\n",
       "      <td>chr1</td>\n",
       "      <td>54400</td>\n",
       "      <td>79400</td>\n",
       "      <td>0.0</td>\n",
       "      <td>0.0</td>\n",
       "      <td>0.0</td>\n",
       "      <td>0.0</td>\n",
       "      <td>0.0</td>\n",
       "      <td>0.0</td>\n",
       "      <td>0.0</td>\n",
       "      <td>...</td>\n",
       "      <td>0.0</td>\n",
       "      <td>0.0</td>\n",
       "      <td>0.0</td>\n",
       "      <td>0.0</td>\n",
       "      <td>0.0</td>\n",
       "      <td>0.0</td>\n",
       "      <td>0.0</td>\n",
       "      <td>0.0</td>\n",
       "      <td>0.0</td>\n",
       "      <td>1.0</td>\n",
       "    </tr>\n",
       "    <tr>\n",
       "      <th>2</th>\n",
       "      <td>chr1</td>\n",
       "      <td>94200</td>\n",
       "      <td>119200</td>\n",
       "      <td>0.0</td>\n",
       "      <td>0.0</td>\n",
       "      <td>0.0</td>\n",
       "      <td>0.0</td>\n",
       "      <td>0.0</td>\n",
       "      <td>0.0</td>\n",
       "      <td>0.0</td>\n",
       "      <td>...</td>\n",
       "      <td>0.0</td>\n",
       "      <td>0.0</td>\n",
       "      <td>0.0</td>\n",
       "      <td>0.0</td>\n",
       "      <td>0.0</td>\n",
       "      <td>0.0</td>\n",
       "      <td>0.0</td>\n",
       "      <td>0.0</td>\n",
       "      <td>0.0</td>\n",
       "      <td>1.0</td>\n",
       "    </tr>\n",
       "    <tr>\n",
       "      <th>3</th>\n",
       "      <td>chr1</td>\n",
       "      <td>129600</td>\n",
       "      <td>154600</td>\n",
       "      <td>0.0</td>\n",
       "      <td>0.0</td>\n",
       "      <td>0.0</td>\n",
       "      <td>0.0</td>\n",
       "      <td>0.0</td>\n",
       "      <td>0.0</td>\n",
       "      <td>0.0</td>\n",
       "      <td>...</td>\n",
       "      <td>0.0</td>\n",
       "      <td>0.0</td>\n",
       "      <td>0.0</td>\n",
       "      <td>0.0</td>\n",
       "      <td>0.0</td>\n",
       "      <td>0.0</td>\n",
       "      <td>0.0</td>\n",
       "      <td>0.0</td>\n",
       "      <td>0.0</td>\n",
       "      <td>1.0</td>\n",
       "    </tr>\n",
       "    <tr>\n",
       "      <th>4</th>\n",
       "      <td>chr1</td>\n",
       "      <td>154800</td>\n",
       "      <td>260449</td>\n",
       "      <td>0.0</td>\n",
       "      <td>0.0</td>\n",
       "      <td>0.0</td>\n",
       "      <td>0.0</td>\n",
       "      <td>0.0</td>\n",
       "      <td>0.0</td>\n",
       "      <td>0.0</td>\n",
       "      <td>...</td>\n",
       "      <td>0.0</td>\n",
       "      <td>0.0</td>\n",
       "      <td>0.0</td>\n",
       "      <td>0.0</td>\n",
       "      <td>0.0</td>\n",
       "      <td>0.0</td>\n",
       "      <td>0.0</td>\n",
       "      <td>0.0</td>\n",
       "      <td>0.0</td>\n",
       "      <td>1.0</td>\n",
       "    </tr>\n",
       "  </tbody>\n",
       "</table>\n",
       "<p>5 rows × 37 columns</p>\n",
       "</div>"
      ],
      "text/plain": [
       "   chrm   start     end  Placental_trophoblast  Lymphoid  Myeloid_erythroid  \\\n",
       "0  chr1   22400   47400                    0.0       0.0                0.0   \n",
       "1  chr1   54400   79400                    0.0       0.0                0.0   \n",
       "2  chr1   94200  119200                    0.0       0.0                0.0   \n",
       "3  chr1  129600  154600                    0.0       0.0                0.0   \n",
       "4  chr1  154800  260449                    0.0       0.0                0.0   \n",
       "\n",
       "   Cardiac  Musculoskeletal  Vascular_endothelial  Primitive_embryonic  ...  \\\n",
       "0      0.0              0.0                   0.0                  0.0  ...   \n",
       "1      0.0              0.0                   0.0                  0.0  ...   \n",
       "2      0.0              0.0                   0.0                  0.0  ...   \n",
       "3      0.0              0.0                   0.0                  0.0  ...   \n",
       "4      0.0              0.0                   0.0                  0.0  ...   \n",
       "\n",
       "   EnhA1  EnhA2  EnhWk  ZNF_Rpts  Het  TssBiv  EnhBiv  ReprPC  ReprPCWk  Quies  \n",
       "0    0.0    0.0    0.0       0.0  0.0     0.0     0.0     0.0       0.0    1.0  \n",
       "1    0.0    0.0    0.0       0.0  0.0     0.0     0.0     0.0       0.0    1.0  \n",
       "2    0.0    0.0    0.0       0.0  0.0     0.0     0.0     0.0       0.0    1.0  \n",
       "3    0.0    0.0    0.0       0.0  0.0     0.0     0.0     0.0       0.0    1.0  \n",
       "4    0.0    0.0    0.0       0.0  0.0     0.0     0.0     0.0       0.0    1.0  \n",
       "\n",
       "[5 rows x 37 columns]"
      ]
     },
     "execution_count": 19,
     "metadata": {},
     "output_type": "execute_result"
    }
   ],
   "source": [
    "signal_df.head(5)"
   ]
  },
  {
   "cell_type": "code",
   "execution_count": 28,
   "id": "59185a92",
   "metadata": {},
   "outputs": [],
   "source": [
    "factors = [str(s) for s in signal_df.columns[3:]]"
   ]
  },
  {
   "cell_type": "code",
   "execution_count": 43,
   "id": "7540a5fa",
   "metadata": {},
   "outputs": [],
   "source": [
    "data = signal_df.rename(columns={\"chrm\":\"chromosome\"})"
   ]
  },
  {
   "cell_type": "code",
   "execution_count": 44,
   "id": "7dc408a9",
   "metadata": {},
   "outputs": [
    {
     "data": {
      "text/plain": [
       "Placental_trophoblast    11276.9993\n",
       "Lymphoid                 10839.0006\n",
       "Myeloid_erythroid         8496.5008\n",
       "Cardiac                   7105.0004\n",
       "Musculoskeletal          10668.9998\n",
       "Vascular_endothelial      5741.4995\n",
       "Primitive_embryonic      19605.5004\n",
       "Neural                   13911.9996\n",
       "Digestive                 8072.4983\n",
       "StromalA                  6015.0001\n",
       "StromalB                 12198.4993\n",
       "Renal_cancer              8698.9999\n",
       "Cancer_epithelial        11195.0012\n",
       "Pulmonarydevel            6776.9988\n",
       "Organdevel_renal          9519.9996\n",
       "Tissueinvariant           8154.5014\n",
       "TssA                      5668.4854\n",
       "TssFlnk                   5530.4558\n",
       "TssFlnkU                  6233.0743\n",
       "TssFlnkD                  3838.6232\n",
       "Tx                        6737.4738\n",
       "TxWk                     14066.6056\n",
       "EnhG1                     1230.0112\n",
       "EnhG2                      610.9812\n",
       "EnhA1                    11706.5076\n",
       "EnhA2                    10068.8306\n",
       "EnhWk                    16597.2464\n",
       "ZNF_Rpts                 11786.1417\n",
       "Het                      17338.7252\n",
       "TssBiv                    2783.4915\n",
       "EnhBiv                    1743.5476\n",
       "ReprPC                    6497.9284\n",
       "ReprPCWk                 10105.8993\n",
       "Quies                    35895.8392\n",
       "dtype: float64"
      ]
     },
     "execution_count": 44,
     "metadata": {},
     "output_type": "execute_result"
    }
   ],
   "source": [
    "data[factors].sum(axis=0)"
   ]
  },
  {
   "cell_type": "code",
   "execution_count": 45,
   "id": "cc148abe",
   "metadata": {},
   "outputs": [
    {
     "data": {
      "text/html": [
       "<div>\n",
       "<style scoped>\n",
       "    .dataframe tbody tr th:only-of-type {\n",
       "        vertical-align: middle;\n",
       "    }\n",
       "\n",
       "    .dataframe tbody tr th {\n",
       "        vertical-align: top;\n",
       "    }\n",
       "\n",
       "    .dataframe thead th {\n",
       "        text-align: right;\n",
       "    }\n",
       "</style>\n",
       "<table border=\"1\" class=\"dataframe\">\n",
       "  <thead>\n",
       "    <tr style=\"text-align: right;\">\n",
       "      <th></th>\n",
       "      <th>chromosome</th>\n",
       "      <th>start</th>\n",
       "      <th>end</th>\n",
       "      <th>Placental_trophoblast</th>\n",
       "      <th>Lymphoid</th>\n",
       "      <th>Myeloid_erythroid</th>\n",
       "      <th>Cardiac</th>\n",
       "      <th>Musculoskeletal</th>\n",
       "      <th>Vascular_endothelial</th>\n",
       "      <th>Primitive_embryonic</th>\n",
       "      <th>...</th>\n",
       "      <th>EnhA1</th>\n",
       "      <th>EnhA2</th>\n",
       "      <th>EnhWk</th>\n",
       "      <th>ZNF_Rpts</th>\n",
       "      <th>Het</th>\n",
       "      <th>TssBiv</th>\n",
       "      <th>EnhBiv</th>\n",
       "      <th>ReprPC</th>\n",
       "      <th>ReprPCWk</th>\n",
       "      <th>Quies</th>\n",
       "    </tr>\n",
       "  </thead>\n",
       "  <tbody>\n",
       "    <tr>\n",
       "      <th>0</th>\n",
       "      <td>chr1</td>\n",
       "      <td>22400</td>\n",
       "      <td>47400</td>\n",
       "      <td>0.0</td>\n",
       "      <td>0.0</td>\n",
       "      <td>0.0</td>\n",
       "      <td>0.0</td>\n",
       "      <td>0.0</td>\n",
       "      <td>0.0</td>\n",
       "      <td>0.0</td>\n",
       "      <td>...</td>\n",
       "      <td>0.0</td>\n",
       "      <td>0.0</td>\n",
       "      <td>0.0</td>\n",
       "      <td>0.0</td>\n",
       "      <td>0.0</td>\n",
       "      <td>0.0</td>\n",
       "      <td>0.0</td>\n",
       "      <td>0.0</td>\n",
       "      <td>0.0</td>\n",
       "      <td>1.0</td>\n",
       "    </tr>\n",
       "    <tr>\n",
       "      <th>1</th>\n",
       "      <td>chr1</td>\n",
       "      <td>54400</td>\n",
       "      <td>79400</td>\n",
       "      <td>0.0</td>\n",
       "      <td>0.0</td>\n",
       "      <td>0.0</td>\n",
       "      <td>0.0</td>\n",
       "      <td>0.0</td>\n",
       "      <td>0.0</td>\n",
       "      <td>0.0</td>\n",
       "      <td>...</td>\n",
       "      <td>0.0</td>\n",
       "      <td>0.0</td>\n",
       "      <td>0.0</td>\n",
       "      <td>0.0</td>\n",
       "      <td>0.0</td>\n",
       "      <td>0.0</td>\n",
       "      <td>0.0</td>\n",
       "      <td>0.0</td>\n",
       "      <td>0.0</td>\n",
       "      <td>1.0</td>\n",
       "    </tr>\n",
       "    <tr>\n",
       "      <th>2</th>\n",
       "      <td>chr1</td>\n",
       "      <td>94200</td>\n",
       "      <td>119200</td>\n",
       "      <td>0.0</td>\n",
       "      <td>0.0</td>\n",
       "      <td>0.0</td>\n",
       "      <td>0.0</td>\n",
       "      <td>0.0</td>\n",
       "      <td>0.0</td>\n",
       "      <td>0.0</td>\n",
       "      <td>...</td>\n",
       "      <td>0.0</td>\n",
       "      <td>0.0</td>\n",
       "      <td>0.0</td>\n",
       "      <td>0.0</td>\n",
       "      <td>0.0</td>\n",
       "      <td>0.0</td>\n",
       "      <td>0.0</td>\n",
       "      <td>0.0</td>\n",
       "      <td>0.0</td>\n",
       "      <td>1.0</td>\n",
       "    </tr>\n",
       "    <tr>\n",
       "      <th>3</th>\n",
       "      <td>chr1</td>\n",
       "      <td>129600</td>\n",
       "      <td>154600</td>\n",
       "      <td>0.0</td>\n",
       "      <td>0.0</td>\n",
       "      <td>0.0</td>\n",
       "      <td>0.0</td>\n",
       "      <td>0.0</td>\n",
       "      <td>0.0</td>\n",
       "      <td>0.0</td>\n",
       "      <td>...</td>\n",
       "      <td>0.0</td>\n",
       "      <td>0.0</td>\n",
       "      <td>0.0</td>\n",
       "      <td>0.0</td>\n",
       "      <td>0.0</td>\n",
       "      <td>0.0</td>\n",
       "      <td>0.0</td>\n",
       "      <td>0.0</td>\n",
       "      <td>0.0</td>\n",
       "      <td>1.0</td>\n",
       "    </tr>\n",
       "    <tr>\n",
       "      <th>4</th>\n",
       "      <td>chr1</td>\n",
       "      <td>154800</td>\n",
       "      <td>260449</td>\n",
       "      <td>0.0</td>\n",
       "      <td>0.0</td>\n",
       "      <td>0.0</td>\n",
       "      <td>0.0</td>\n",
       "      <td>0.0</td>\n",
       "      <td>0.0</td>\n",
       "      <td>0.0</td>\n",
       "      <td>...</td>\n",
       "      <td>0.0</td>\n",
       "      <td>0.0</td>\n",
       "      <td>0.0</td>\n",
       "      <td>0.0</td>\n",
       "      <td>0.0</td>\n",
       "      <td>0.0</td>\n",
       "      <td>0.0</td>\n",
       "      <td>0.0</td>\n",
       "      <td>0.0</td>\n",
       "      <td>1.0</td>\n",
       "    </tr>\n",
       "  </tbody>\n",
       "</table>\n",
       "<p>5 rows × 37 columns</p>\n",
       "</div>"
      ],
      "text/plain": [
       "  chromosome   start     end  Placental_trophoblast  Lymphoid  \\\n",
       "0       chr1   22400   47400                    0.0       0.0   \n",
       "1       chr1   54400   79400                    0.0       0.0   \n",
       "2       chr1   94200  119200                    0.0       0.0   \n",
       "3       chr1  129600  154600                    0.0       0.0   \n",
       "4       chr1  154800  260449                    0.0       0.0   \n",
       "\n",
       "   Myeloid_erythroid  Cardiac  Musculoskeletal  Vascular_endothelial  \\\n",
       "0                0.0      0.0              0.0                   0.0   \n",
       "1                0.0      0.0              0.0                   0.0   \n",
       "2                0.0      0.0              0.0                   0.0   \n",
       "3                0.0      0.0              0.0                   0.0   \n",
       "4                0.0      0.0              0.0                   0.0   \n",
       "\n",
       "   Primitive_embryonic  ...  EnhA1  EnhA2  EnhWk  ZNF_Rpts  Het  TssBiv  \\\n",
       "0                  0.0  ...    0.0    0.0    0.0       0.0  0.0     0.0   \n",
       "1                  0.0  ...    0.0    0.0    0.0       0.0  0.0     0.0   \n",
       "2                  0.0  ...    0.0    0.0    0.0       0.0  0.0     0.0   \n",
       "3                  0.0  ...    0.0    0.0    0.0       0.0  0.0     0.0   \n",
       "4                  0.0  ...    0.0    0.0    0.0       0.0  0.0     0.0   \n",
       "\n",
       "   EnhBiv  ReprPC  ReprPCWk  Quies  \n",
       "0     0.0     0.0       0.0    1.0  \n",
       "1     0.0     0.0       0.0    1.0  \n",
       "2     0.0     0.0       0.0    1.0  \n",
       "3     0.0     0.0       0.0    1.0  \n",
       "4     0.0     0.0       0.0    1.0  \n",
       "\n",
       "[5 rows x 37 columns]"
      ]
     },
     "execution_count": 45,
     "metadata": {},
     "output_type": "execute_result"
    }
   ],
   "source": [
    "data.head()"
   ]
  },
  {
   "cell_type": "code",
   "execution_count": 33,
   "id": "f4ae85fa",
   "metadata": {},
   "outputs": [
    {
     "name": "stdout",
     "output_type": "stream",
     "text": [
      "The autoreload extension is already loaded. To reload it, use:\n",
      "  %reload_ext autoreload\n"
     ]
    }
   ],
   "source": [
    "%load_ext autoreload"
   ]
  },
  {
   "cell_type": "code",
   "execution_count": 34,
   "id": "dd087c9f",
   "metadata": {},
   "outputs": [],
   "source": [
    "%autoreload 2"
   ]
  },
  {
   "cell_type": "code",
   "execution_count": 35,
   "id": "e486b7ed",
   "metadata": {},
   "outputs": [],
   "source": [
    "import hilbertgenome"
   ]
  },
  {
   "cell_type": "code",
   "execution_count": 66,
   "id": "cedb855f",
   "metadata": {},
   "outputs": [],
   "source": [
    "result = data.groupby(\"chromosome\").apply(aggregator)"
   ]
  },
  {
   "cell_type": "code",
   "execution_count": 67,
   "id": "33bcaf0a",
   "metadata": {},
   "outputs": [
    {
     "data": {
      "text/plain": [
       "Index(['chr1', 'chr10', 'chr11', 'chr12', 'chr13', 'chr14', 'chr15', 'chr16',\n",
       "       'chr17', 'chr18', 'chr19', 'chr2', 'chr20', 'chr21', 'chr22', 'chr3',\n",
       "       'chr4', 'chr5', 'chr6', 'chr7', 'chr8', 'chr9', 'chrX'],\n",
       "      dtype='object', name='chromosome')"
      ]
     },
     "execution_count": 67,
     "metadata": {},
     "output_type": "execute_result"
    }
   ],
   "source": [
    "result.index"
   ]
  },
  {
   "cell_type": "code",
   "execution_count": 68,
   "id": "bcb20396",
   "metadata": {},
   "outputs": [
    {
     "data": {
      "text/plain": [
       "pandas.core.indexes.base.Index"
      ]
     },
     "execution_count": 68,
     "metadata": {},
     "output_type": "execute_result"
    }
   ],
   "source": [
    "type(result.index)"
   ]
  },
  {
   "cell_type": "code",
   "execution_count": 69,
   "id": "2ec0f6a0",
   "metadata": {},
   "outputs": [
    {
     "data": {
      "text/plain": [
       "chromosome\n",
       "chr1     [1097.8197, 978.2196, 854.0160000000001, 693.7...\n",
       "chr10    [543.7725, 549.0526, 387.48659999999995, 366.2...\n",
       "chr11    [551.6331, 512.9103, 407.01200000000006, 372.5...\n",
       "chr12    [569.3248, 521.3116, 430.12199999999996, 343.0...\n",
       "chr13    [307.1091, 253.36700000000002, 210.45839999999...\n",
       "dtype: object"
      ]
     },
     "execution_count": 69,
     "metadata": {},
     "output_type": "execute_result"
    }
   ],
   "source": [
    "result.head()"
   ]
  },
  {
   "cell_type": "code",
   "execution_count": 73,
   "id": "0d364016",
   "metadata": {},
   "outputs": [],
   "source": [
    "# result.columns"
   ]
  },
  {
   "cell_type": "code",
   "execution_count": 72,
   "id": "511d38f2",
   "metadata": {},
   "outputs": [
    {
     "data": {
      "text/plain": [
       "\"<class 'pandas.core.series.Series'>\""
      ]
     },
     "execution_count": 72,
     "metadata": {},
     "output_type": "execute_result"
    }
   ],
   "source": [
    "str(type(result))"
   ]
  },
  {
   "cell_type": "code",
   "execution_count": 74,
   "id": "24bf9c9c",
   "metadata": {},
   "outputs": [],
   "source": [
    "def aggregator(data):\n",
    "    return data[factors].sum(axis=0).to_numpy()"
   ]
  },
  {
   "cell_type": "code",
   "execution_count": 107,
   "id": "13fbaaba",
   "metadata": {},
   "outputs": [],
   "source": [
    "def accessor(d):\n",
    "    # our dtype will want to match the value here\n",
    "    return d[factors].to_numpy()"
   ]
  },
  {
   "cell_type": "code",
   "execution_count": 108,
   "id": "7f7b7dba",
   "metadata": {},
   "outputs": [
    {
     "name": "stdout",
     "output_type": "stream",
     "text": [
      "data width 34\n",
      "order 6 individual False\n",
      "order 7 individual False\n",
      "order 8 individual False\n",
      "order 9 individual True\n",
      "order 10 individual True\n",
      "order 11 individual True\n",
      "order 12 individual True\n",
      "order 13 individual True\n",
      "order 14 individual True\n",
      "order 15 individual True\n"
     ]
    }
   ],
   "source": [
    "hg = hilbertgenome.HilbertGenome(data=data, \n",
    "                                 name=\"sr_sum\",\n",
    "                                 aggregator=aggregator,\n",
    "                                 accessor=accessor,\n",
    "                                 dtype=\"float32\",\n",
    "                                 signal_resolution=25000,\n",
    "                                 missing_value=0\n",
    "                                )"
   ]
  },
  {
   "cell_type": "code",
   "execution_count": 109,
   "id": "10f883f0",
   "metadata": {},
   "outputs": [],
   "source": [
    "params = hg.aggregate_chromosome(\"chrY\", 6)"
   ]
  },
  {
   "cell_type": "code",
   "execution_count": 110,
   "id": "2bb29ddf",
   "metadata": {},
   "outputs": [
    {
     "data": {
      "text/plain": [
       "{'chromosome': 'chrY',\n",
       " 'order': 6,\n",
       " 'hstart': 4020,\n",
       " 'hstop': 4096,\n",
       " 'gstart': 3031042417}"
      ]
     },
     "execution_count": 110,
     "metadata": {},
     "output_type": "execute_result"
    }
   ],
   "source": [
    "params[0]"
   ]
  },
  {
   "cell_type": "code",
   "execution_count": 111,
   "id": "4213e1a9",
   "metadata": {},
   "outputs": [
    {
     "data": {
      "text/plain": [
       "array([[0., 0., 0., ..., 0., 0., 0.],\n",
       "       [0., 0., 0., ..., 0., 0., 0.],\n",
       "       [0., 0., 0., ..., 0., 0., 0.],\n",
       "       ...,\n",
       "       [0., 0., 0., ..., 0., 0., 0.],\n",
       "       [0., 0., 0., ..., 0., 0., 0.],\n",
       "       [0., 0., 0., ..., 0., 0., 0.]], dtype=float32)"
      ]
     },
     "execution_count": 111,
     "metadata": {},
     "output_type": "execute_result"
    }
   ],
   "source": [
    "hg.aggregate_range_region(**params[0])"
   ]
  },
  {
   "cell_type": "code",
   "execution_count": 112,
   "id": "c35e8a3e",
   "metadata": {},
   "outputs": [
    {
     "name": "stdout",
     "output_type": "stream",
     "text": [
      "generating 24 files\n",
      "chr1 9 0 starting\n",
      "chr1 9 0 done in: 1.0062880516052246\n",
      "chr2 9 21132 starting\n",
      "chr2 9 21132 done in: 1.0888488292694092\n",
      "chr3 9 41690 starting\n",
      "chr3 9 41690 done in: 0.8791618347167969\n",
      "chr4 9 58522 starting\n",
      "chr4 9 58522 done in: 0.8262457847595215\n",
      "chr5 9 74668 starting\n",
      "chr5 9 74668 done in: 0.7823779582977295\n",
      "chr6 9 90078 starting\n",
      "chr6 9 90078 done in: 0.7353508472442627\n",
      "chr7 9 104577 starting\n",
      "chr7 9 104577 done in: 0.6873517036437988\n",
      "chr8 9 118103 starting\n",
      "chr8 9 118103 done in: 0.6347017288208008\n",
      "chr9 9 130422 starting\n",
      "chr9 9 130422 done in: 0.5206060409545898\n",
      "chr10 9 142170 starting\n",
      "chr10 9 142170 done in: 0.5982992649078369\n",
      "chr11 9 153527 starting\n",
      "chr11 9 153527 done in: 0.6034519672393799\n",
      "chr12 9 164994 starting\n",
      "chr12 9 164994 done in: 0.5971448421478271\n",
      "chr13 9 176307 starting\n",
      "chr13 9 176307 done in: 0.43317604064941406\n",
      "chr14 9 186014 starting\n",
      "chr14 9 186014 done in: 0.399857759475708\n",
      "chr15 9 195101 starting\n",
      "chr15 9 195101 done in: 0.38251709938049316\n",
      "chr16 9 203758 starting\n",
      "chr16 9 203758 done in: 0.3681793212890625\n",
      "chr17 9 211426 starting\n",
      "chr17 9 211426 done in: 0.35232114791870117\n",
      "chr18 9 218494 starting\n",
      "chr18 9 218494 done in: 0.36307597160339355\n",
      "chr19 9 225316 starting\n",
      "chr19 9 225316 done in: 0.252089262008667\n",
      "chr20 9 230292 starting\n",
      "chr20 9 230292 done in: 0.27584004402160645\n",
      "chr21 9 235762 starting\n",
      "chr21 9 235762 done in: 0.1621391773223877\n",
      "chr22 9 239727 starting\n",
      "chr22 9 239727 done in: 0.15787696838378906\n",
      "chrX 9 244040 starting\n",
      "chrX 9 244040 done in: 0.6999599933624268\n",
      "chrY 9 257286 starting\n",
      "chrY 9 257286 done in: 0.004518985748291016\n",
      "order 9 done in: 12.814069986343384\n",
      "combining files\n",
      "Combining files ['./data/chromosome_bytes/sr_sum_chr1_9_0.float32', './data/chromosome_bytes/sr_sum_chr2_9_21132.float32', './data/chromosome_bytes/sr_sum_chr3_9_41690.float32', './data/chromosome_bytes/sr_sum_chr4_9_58522.float32', './data/chromosome_bytes/sr_sum_chr5_9_74668.float32', './data/chromosome_bytes/sr_sum_chr6_9_90078.float32', './data/chromosome_bytes/sr_sum_chr7_9_104577.float32', './data/chromosome_bytes/sr_sum_chr8_9_118103.float32', './data/chromosome_bytes/sr_sum_chr9_9_130422.float32', './data/chromosome_bytes/sr_sum_chr10_9_142170.float32', './data/chromosome_bytes/sr_sum_chr11_9_153527.float32', './data/chromosome_bytes/sr_sum_chr12_9_164994.float32', './data/chromosome_bytes/sr_sum_chr13_9_176307.float32', './data/chromosome_bytes/sr_sum_chr14_9_186014.float32', './data/chromosome_bytes/sr_sum_chr15_9_195101.float32', './data/chromosome_bytes/sr_sum_chr16_9_203758.float32', './data/chromosome_bytes/sr_sum_chr17_9_211426.float32', './data/chromosome_bytes/sr_sum_chr18_9_218494.float32', './data/chromosome_bytes/sr_sum_chr19_9_225316.float32', './data/chromosome_bytes/sr_sum_chr20_9_230292.float32', './data/chromosome_bytes/sr_sum_chr21_9_235762.float32', './data/chromosome_bytes/sr_sum_chr22_9_239727.float32', './data/chromosome_bytes/sr_sum_chrX_9_244040.float32', './data/chromosome_bytes/sr_sum_chrY_9_257286.float32']\n",
      "all done!\n",
      "Combining files ['./data/chromosome_bytes/sr_sum_chr1_9_0.json', './data/chromosome_bytes/sr_sum_chr2_9_21132.json', './data/chromosome_bytes/sr_sum_chr3_9_41690.json', './data/chromosome_bytes/sr_sum_chr4_9_58522.json', './data/chromosome_bytes/sr_sum_chr5_9_74668.json', './data/chromosome_bytes/sr_sum_chr6_9_90078.json', './data/chromosome_bytes/sr_sum_chr7_9_104577.json', './data/chromosome_bytes/sr_sum_chr8_9_118103.json', './data/chromosome_bytes/sr_sum_chr9_9_130422.json', './data/chromosome_bytes/sr_sum_chr10_9_142170.json', './data/chromosome_bytes/sr_sum_chr11_9_153527.json', './data/chromosome_bytes/sr_sum_chr12_9_164994.json', './data/chromosome_bytes/sr_sum_chr13_9_176307.json', './data/chromosome_bytes/sr_sum_chr14_9_186014.json', './data/chromosome_bytes/sr_sum_chr15_9_195101.json', './data/chromosome_bytes/sr_sum_chr16_9_203758.json', './data/chromosome_bytes/sr_sum_chr17_9_211426.json', './data/chromosome_bytes/sr_sum_chr18_9_218494.json', './data/chromosome_bytes/sr_sum_chr19_9_225316.json', './data/chromosome_bytes/sr_sum_chr20_9_230292.json', './data/chromosome_bytes/sr_sum_chr21_9_235762.json', './data/chromosome_bytes/sr_sum_chr22_9_239727.json', './data/chromosome_bytes/sr_sum_chrX_9_244040.json', './data/chromosome_bytes/sr_sum_chrY_9_257286.json']\n",
      "all done!\n",
      "done with 9\n"
     ]
    }
   ],
   "source": [
    "hg.generate_order(9)"
   ]
  },
  {
   "cell_type": "code",
   "execution_count": null,
   "id": "74afe026",
   "metadata": {},
   "outputs": [],
   "source": []
  }
 ],
 "metadata": {
  "kernelspec": {
   "display_name": "Python 3 (ipykernel)",
   "language": "python",
   "name": "python3"
  },
  "language_info": {
   "codemirror_mode": {
    "name": "ipython",
    "version": 3
   },
   "file_extension": ".py",
   "mimetype": "text/x-python",
   "name": "python",
   "nbconvert_exporter": "python",
   "pygments_lexer": "ipython3",
   "version": "3.9.15"
  }
 },
 "nbformat": 4,
 "nbformat_minor": 5
}
